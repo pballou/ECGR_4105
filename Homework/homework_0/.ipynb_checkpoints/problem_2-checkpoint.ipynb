{
 "cells": [
  {
   "cell_type": "code",
   "execution_count": 1,
   "id": "eaccbc1b",
   "metadata": {},
   "outputs": [
    {
     "data": {
      "text/plain": [
       "'\\nPatrick Ballou\\nID: 801130521\\nECGR 4105\\nHomework 0\\nProblem 2\\n'"
      ]
     },
     "execution_count": 1,
     "metadata": {},
     "output_type": "execute_result"
    }
   ],
   "source": [
    "'''\n",
    "Patrick Ballou\n",
    "ID: 801130521\n",
    "ECGR 4105\n",
    "Homework 0\n",
    "Problem 2\n",
    "'''"
   ]
  },
  {
   "cell_type": "code",
   "execution_count": 2,
   "id": "0961b9b0-001b-4e09-b1cc-40603560ab49",
   "metadata": {},
   "outputs": [],
   "source": [
    "import numpy as np\n",
    "import pandas as pd\n",
    "import matplotlib.pyplot as plt"
   ]
  },
  {
   "cell_type": "code",
   "execution_count": 3,
   "id": "d74fb357-b9ae-46ef-a53c-d5f3ed146067",
   "metadata": {},
   "outputs": [],
   "source": [
    "#create pandas dataframe and split into inputs(x) and output(y)\n",
    "df = pd.read_csv(\"D3.csv\")\n",
    "x = df.values[:,0:3]\n",
    "y = df.values[:,3]\n",
    "m = len(x)"
   ]
  },
  {
   "cell_type": "code",
   "execution_count": 4,
   "id": "958a337f-ddf6-4b96-961c-de2b299044e8",
   "metadata": {},
   "outputs": [],
   "source": [
    "#create x_0 2d array of ones with length m\n",
    "x_0 = np.ones((m,1))\n",
    "#prepare x so it can be concatenated with x_0\n",
    "x = x.reshape(m,3)\n",
    "#concatenate x_0 with x\n",
    "X = np.hstack((x_0, x))"
   ]
  },
  {
   "cell_type": "code",
   "execution_count": 5,
   "id": "e5401f32-8e4f-4156-902a-1f7a6d29b3a2",
   "metadata": {},
   "outputs": [],
   "source": [
    "#loss function\n",
    "def compute_cost(X, y, theta):\n",
    "    predictions = X.dot(theta)\n",
    "    errors = np.subtract(predictions, y)\n",
    "    sqrErrors = np.square(errors)\n",
    "    J = (1/(2*m))*np.sum(sqrErrors)\n",
    "    \n",
    "    return J"
   ]
  },
  {
   "cell_type": "code",
   "execution_count": 6,
   "id": "57a3b3e8-d4ed-458e-be29-2c0095d8de52",
   "metadata": {},
   "outputs": [],
   "source": [
    "#gradient descent function\n",
    "def gradient_descent(X, y, theta, alpha, iterations):\n",
    "    cost_history = np.zeros(iterations)\n",
    "    \n",
    "    for i in range(iterations):\n",
    "        predictions = X.dot(theta)\n",
    "        errors = np.subtract(predictions, y)\n",
    "        sum_delta = (alpha/m) * X.transpose().dot(errors)\n",
    "        theta -= sum_delta\n",
    "        cost_history[i] = compute_cost(X, y, theta)\n",
    "    \n",
    "    return theta, cost_history"
   ]
  },
  {
   "cell_type": "code",
   "execution_count": 7,
   "id": "54464a58-b355-4b0b-9282-a2f178e69374",
   "metadata": {},
   "outputs": [],
   "source": [
    "#initialize theta, # of iterations, and learning rate\n",
    "theta = np.zeros(4)\n",
    "iterations = 50000\n",
    "alpha = .01"
   ]
  },
  {
   "cell_type": "code",
   "execution_count": 8,
   "id": "53caee0f-6243-4082-814d-13691a6efa58",
   "metadata": {},
   "outputs": [
    {
     "name": "stdout",
     "output_type": "stream",
     "text": [
      "Final theta values: [ 5.31416717 -2.00371927  0.53256334 -0.26560187]\n"
     ]
    }
   ],
   "source": [
    "#calculate cost for and output last value which should be the lowest\n",
    "theta, cost_history = gradient_descent(X, y, theta, alpha, iterations)\n",
    "print(\"Final theta values:\", theta)"
   ]
  },
  {
   "cell_type": "code",
   "execution_count": 9,
   "id": "6e6bf0ef-d6e5-4f84-8390-5674c4d64143",
   "metadata": {},
   "outputs": [
    {
     "name": "stdout",
     "output_type": "stream",
     "text": [
      "Cost: 0.738464241568294\n"
     ]
    },
    {
     "data": {
      "image/png": "[encoded data removed]",
      "text/plain": [
       "<Figure size 432x288 with 1 Axes>"
      ]
     },
     "metadata": {
      "needs_background": "light"
     },
     "output_type": "display_data"
    }
   ],
   "source": [
    "#plot loss vs iterations\n",
    "plt.plot(range(1, iterations + 1), cost_history, color='blue')\n",
    "plt.rcParams[\"figure.figsize\"] = (10,6)\n",
    "plt.grid()\n",
    "plt.xlabel('Number of iterations')\n",
    "plt.ylabel('Cost (J)')\n",
    "plt.title('Convergence of gradient descent for X')\n",
    "print(\"Cost:\", cost_history[-1])"
   ]
  },
  {
   "cell_type": "code",
   "execution_count": 10,
   "id": "ba333730-30fa-4fdd-9e3b-d00f34ba9214",
   "metadata": {},
   "outputs": [
    {
     "name": "stdout",
     "output_type": "stream",
     "text": [
      "[3.57740937 0.24432117 0.10253417]\n"
     ]
    }
   ],
   "source": [
    "#predict new values\n",
    "new_x = np.array([[1,1,1,1],[1,2,0,4],[1,3,2,1]])\n",
    "unseen_y = new_x.dot(theta)\n",
    "print(unseen_y)"
   ]
  }
 ],
 "metadata": {
  "kernelspec": {
   "display_name": "Python 3 (ipykernel)",
   "language": "python",
   "name": "python3"
  },
  "language_info": {
   "codemirror_mode": {
    "name": "ipython",
    "version": 3
   },
   "file_extension": ".py",
   "mimetype": "text/x-python",
   "name": "python",
   "nbconvert_exporter": "python",
   "pygments_lexer": "ipython3",
   "version": "3.9.12"
  },
  "vscode": {
   "interpreter": {
    "hash": "0eb5d0a65b500759bcde1c4c1ad0551eaece71d5bef76353acf57400c52edb49"
   }
  }
 },
 "nbformat": 4,
 "nbformat_minor": 5
}
