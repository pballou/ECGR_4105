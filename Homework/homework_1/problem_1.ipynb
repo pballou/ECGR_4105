{
 "cells": [
  {
   "cell_type": "code",
   "execution_count": 19,
   "id": "850fffab-c49d-4126-8079-f82865742967",
   "metadata": {},
   "outputs": [
    {
     "data": {
      "text/plain": [
       "'\\nPatrick Ballou\\nID: 801130521\\nECGR 4105\\nHomework 1\\nProblem 1\\n'"
      ]
     },
     "execution_count": 19,
     "metadata": {},
     "output_type": "execute_result"
    }
   ],
   "source": [
    "'''\n",
    "Patrick Ballou\n",
    "ID: 801130521\n",
    "ECGR 4105\n",
    "Homework 1\n",
    "Problem 1\n",
    "'''"
   ]
  },
  {
   "cell_type": "code",
   "execution_count": 20,
   "id": "64e8ad63-0579-4b00-ab6b-70b3b5c2f0f4",
   "metadata": {},
   "outputs": [],
   "source": [
    "import numpy as np\n",
    "import pandas as pd\n",
    "import matplotlib.pyplot as plt\n",
    "import seaborn as sns\n",
    "from sklearn.model_selection import train_test_split"
   ]
  },
  {
   "cell_type": "code",
   "execution_count": 21,
   "id": "de1e9919-e9ab-4e4d-8041-0d3ee7c82f0e",
   "metadata": {},
   "outputs": [
    {
     "data": {
      "text/html": [
       "<div>\n",
       "<style scoped>\n",
       "    .dataframe tbody tr th:only-of-type {\n",
       "        vertical-align: middle;\n",
       "    }\n",
       "\n",
       "    .dataframe tbody tr th {\n",
       "        vertical-align: top;\n",
       "    }\n",
       "\n",
       "    .dataframe thead th {\n",
       "        text-align: right;\n",
       "    }\n",
       "</style>\n",
       "<table border=\"1\" class=\"dataframe\">\n",
       "  <thead>\n",
       "    <tr style=\"text-align: right;\">\n",
       "      <th></th>\n",
       "      <th>price</th>\n",
       "      <th>area</th>\n",
       "      <th>bedrooms</th>\n",
       "      <th>bathrooms</th>\n",
       "      <th>stories</th>\n",
       "      <th>mainroad</th>\n",
       "      <th>guestroom</th>\n",
       "      <th>basement</th>\n",
       "      <th>hotwaterheating</th>\n",
       "      <th>airconditioning</th>\n",
       "      <th>parking</th>\n",
       "      <th>prefarea</th>\n",
       "      <th>furnishingstatus</th>\n",
       "    </tr>\n",
       "  </thead>\n",
       "  <tbody>\n",
       "    <tr>\n",
       "      <th>0</th>\n",
       "      <td>13300000</td>\n",
       "      <td>7420</td>\n",
       "      <td>4</td>\n",
       "      <td>2</td>\n",
       "      <td>3</td>\n",
       "      <td>yes</td>\n",
       "      <td>no</td>\n",
       "      <td>no</td>\n",
       "      <td>no</td>\n",
       "      <td>yes</td>\n",
       "      <td>2</td>\n",
       "      <td>yes</td>\n",
       "      <td>furnished</td>\n",
       "    </tr>\n",
       "    <tr>\n",
       "      <th>1</th>\n",
       "      <td>12250000</td>\n",
       "      <td>8960</td>\n",
       "      <td>4</td>\n",
       "      <td>4</td>\n",
       "      <td>4</td>\n",
       "      <td>yes</td>\n",
       "      <td>no</td>\n",
       "      <td>no</td>\n",
       "      <td>no</td>\n",
       "      <td>yes</td>\n",
       "      <td>3</td>\n",
       "      <td>no</td>\n",
       "      <td>furnished</td>\n",
       "    </tr>\n",
       "    <tr>\n",
       "      <th>2</th>\n",
       "      <td>12250000</td>\n",
       "      <td>9960</td>\n",
       "      <td>3</td>\n",
       "      <td>2</td>\n",
       "      <td>2</td>\n",
       "      <td>yes</td>\n",
       "      <td>no</td>\n",
       "      <td>yes</td>\n",
       "      <td>no</td>\n",
       "      <td>no</td>\n",
       "      <td>2</td>\n",
       "      <td>yes</td>\n",
       "      <td>semi-furnished</td>\n",
       "    </tr>\n",
       "    <tr>\n",
       "      <th>3</th>\n",
       "      <td>12215000</td>\n",
       "      <td>7500</td>\n",
       "      <td>4</td>\n",
       "      <td>2</td>\n",
       "      <td>2</td>\n",
       "      <td>yes</td>\n",
       "      <td>no</td>\n",
       "      <td>yes</td>\n",
       "      <td>no</td>\n",
       "      <td>yes</td>\n",
       "      <td>3</td>\n",
       "      <td>yes</td>\n",
       "      <td>furnished</td>\n",
       "    </tr>\n",
       "    <tr>\n",
       "      <th>4</th>\n",
       "      <td>11410000</td>\n",
       "      <td>7420</td>\n",
       "      <td>4</td>\n",
       "      <td>1</td>\n",
       "      <td>2</td>\n",
       "      <td>yes</td>\n",
       "      <td>yes</td>\n",
       "      <td>yes</td>\n",
       "      <td>no</td>\n",
       "      <td>yes</td>\n",
       "      <td>2</td>\n",
       "      <td>no</td>\n",
       "      <td>furnished</td>\n",
       "    </tr>\n",
       "  </tbody>\n",
       "</table>\n",
       "</div>"
      ],
      "text/plain": [
       "      price  area  bedrooms  bathrooms  stories mainroad guestroom basement  \\\n",
       "0  13300000  7420         4          2        3      yes        no       no   \n",
       "1  12250000  8960         4          4        4      yes        no       no   \n",
       "2  12250000  9960         3          2        2      yes        no      yes   \n",
       "3  12215000  7500         4          2        2      yes        no      yes   \n",
       "4  11410000  7420         4          1        2      yes       yes      yes   \n",
       "\n",
       "  hotwaterheating airconditioning  parking prefarea furnishingstatus  \n",
       "0              no             yes        2      yes        furnished  \n",
       "1              no             yes        3       no        furnished  \n",
       "2              no              no        2      yes   semi-furnished  \n",
       "3              no             yes        3      yes        furnished  \n",
       "4              no             yes        2       no        furnished  "
      ]
     },
     "execution_count": 21,
     "metadata": {},
     "output_type": "execute_result"
    }
   ],
   "source": [
    "#create pandas dataframe and print first 5 rows\n",
    "df = pd.read_csv(\"Housing.csv\")\n",
    "df_copy = df.copy() #copy will help later on\n",
    "df.head()"
   ]
  },
  {
   "cell_type": "code",
   "execution_count": 22,
   "id": "ce5e6d25",
   "metadata": {},
   "outputs": [],
   "source": [
    "#categorical inputs that need to be mapped to numbers\n",
    "non_num_varlist = [\"mainroad\", \"guestroom\", \"basement\", \"hotwaterheating\", \"airconditioning\", \"prefarea\"]"
   ]
  },
  {
   "cell_type": "code",
   "execution_count": 23,
   "id": "6632f631",
   "metadata": {},
   "outputs": [],
   "source": [
    "#mapping function\n",
    "def to_num(x):\n",
    "    return x.map({\"yes\": 1, \"no\": 0})"
   ]
  },
  {
   "cell_type": "code",
   "execution_count": 24,
   "id": "a38ef599",
   "metadata": {},
   "outputs": [
    {
     "data": {
      "text/html": [
       "<div>\n",
       "<style scoped>\n",
       "    .dataframe tbody tr th:only-of-type {\n",
       "        vertical-align: middle;\n",
       "    }\n",
       "\n",
       "    .dataframe tbody tr th {\n",
       "        vertical-align: top;\n",
       "    }\n",
       "\n",
       "    .dataframe thead th {\n",
       "        text-align: right;\n",
       "    }\n",
       "</style>\n",
       "<table border=\"1\" class=\"dataframe\">\n",
       "  <thead>\n",
       "    <tr style=\"text-align: right;\">\n",
       "      <th></th>\n",
       "      <th>price</th>\n",
       "      <th>area</th>\n",
       "      <th>bedrooms</th>\n",
       "      <th>bathrooms</th>\n",
       "      <th>stories</th>\n",
       "      <th>mainroad</th>\n",
       "      <th>guestroom</th>\n",
       "      <th>basement</th>\n",
       "      <th>hotwaterheating</th>\n",
       "      <th>airconditioning</th>\n",
       "      <th>parking</th>\n",
       "      <th>prefarea</th>\n",
       "      <th>furnishingstatus</th>\n",
       "    </tr>\n",
       "  </thead>\n",
       "  <tbody>\n",
       "    <tr>\n",
       "      <th>0</th>\n",
       "      <td>13300000</td>\n",
       "      <td>7420</td>\n",
       "      <td>4</td>\n",
       "      <td>2</td>\n",
       "      <td>3</td>\n",
       "      <td>1</td>\n",
       "      <td>0</td>\n",
       "      <td>0</td>\n",
       "      <td>0</td>\n",
       "      <td>1</td>\n",
       "      <td>2</td>\n",
       "      <td>1</td>\n",
       "      <td>furnished</td>\n",
       "    </tr>\n",
       "    <tr>\n",
       "      <th>1</th>\n",
       "      <td>12250000</td>\n",
       "      <td>8960</td>\n",
       "      <td>4</td>\n",
       "      <td>4</td>\n",
       "      <td>4</td>\n",
       "      <td>1</td>\n",
       "      <td>0</td>\n",
       "      <td>0</td>\n",
       "      <td>0</td>\n",
       "      <td>1</td>\n",
       "      <td>3</td>\n",
       "      <td>0</td>\n",
       "      <td>furnished</td>\n",
       "    </tr>\n",
       "    <tr>\n",
       "      <th>2</th>\n",
       "      <td>12250000</td>\n",
       "      <td>9960</td>\n",
       "      <td>3</td>\n",
       "      <td>2</td>\n",
       "      <td>2</td>\n",
       "      <td>1</td>\n",
       "      <td>0</td>\n",
       "      <td>1</td>\n",
       "      <td>0</td>\n",
       "      <td>0</td>\n",
       "      <td>2</td>\n",
       "      <td>1</td>\n",
       "      <td>semi-furnished</td>\n",
       "    </tr>\n",
       "    <tr>\n",
       "      <th>3</th>\n",
       "      <td>12215000</td>\n",
       "      <td>7500</td>\n",
       "      <td>4</td>\n",
       "      <td>2</td>\n",
       "      <td>2</td>\n",
       "      <td>1</td>\n",
       "      <td>0</td>\n",
       "      <td>1</td>\n",
       "      <td>0</td>\n",
       "      <td>1</td>\n",
       "      <td>3</td>\n",
       "      <td>1</td>\n",
       "      <td>furnished</td>\n",
       "    </tr>\n",
       "    <tr>\n",
       "      <th>4</th>\n",
       "      <td>11410000</td>\n",
       "      <td>7420</td>\n",
       "      <td>4</td>\n",
       "      <td>1</td>\n",
       "      <td>2</td>\n",
       "      <td>1</td>\n",
       "      <td>1</td>\n",
       "      <td>1</td>\n",
       "      <td>0</td>\n",
       "      <td>1</td>\n",
       "      <td>2</td>\n",
       "      <td>0</td>\n",
       "      <td>furnished</td>\n",
       "    </tr>\n",
       "  </tbody>\n",
       "</table>\n",
       "</div>"
      ],
      "text/plain": [
       "      price  area  bedrooms  bathrooms  stories  mainroad  guestroom  \\\n",
       "0  13300000  7420         4          2        3         1          0   \n",
       "1  12250000  8960         4          4        4         1          0   \n",
       "2  12250000  9960         3          2        2         1          0   \n",
       "3  12215000  7500         4          2        2         1          0   \n",
       "4  11410000  7420         4          1        2         1          1   \n",
       "\n",
       "   basement  hotwaterheating  airconditioning  parking  prefarea  \\\n",
       "0         0                0                1        2         1   \n",
       "1         0                0                1        3         0   \n",
       "2         1                0                0        2         1   \n",
       "3         1                0                1        3         1   \n",
       "4         1                0                1        2         0   \n",
       "\n",
       "  furnishingstatus  \n",
       "0        furnished  \n",
       "1        furnished  \n",
       "2   semi-furnished  \n",
       "3        furnished  \n",
       "4        furnished  "
      ]
     },
     "execution_count": 24,
     "metadata": {},
     "output_type": "execute_result"
    }
   ],
   "source": [
    "#map inputs and output new dataframe\n",
    "df[non_num_varlist] = df_copy[non_num_varlist].apply(to_num) #copy df is to avoid problems if you run cell again\n",
    "df.head()"
   ]
  },
  {
   "cell_type": "code",
   "execution_count": 25,
   "id": "e566e3f6-d1e9-4fc0-9d36-3717c32a51ab",
   "metadata": {},
   "outputs": [],
   "source": [
    "#train/test split, random_state functions as seed\n",
    "df_train, df_test = train_test_split(df, train_size=.8, test_size=.2, random_state=7)\n",
    "#print(df_test.shape, df_test)"
   ]
  },
  {
   "cell_type": "code",
   "execution_count": 26,
   "id": "7bc9530e",
   "metadata": {},
   "outputs": [],
   "source": [
    "#create arrays of relevent inputs for this problem\n",
    "vars = ['area', 'bedrooms', 'bathrooms', 'stories', 'parking', 'price']\n",
    "train_set = df_train[vars]\n",
    "test_set = df_test[vars]"
   ]
  },
  {
   "cell_type": "code",
   "execution_count": 27,
   "id": "36ccdf23",
   "metadata": {},
   "outputs": [],
   "source": [
    "#create variables for test and train set since they are different sizes\n",
    "m_train = len(train_set)\n",
    "Y_train = train_set['price']\n",
    "x_train = train_set[['area', 'bedrooms', 'bathrooms', 'stories', 'parking']]\n",
    "x_0_train = np.ones((m_train,1))\n",
    "X_train = np.hstack((x_0_train, x_train))\n",
    "\n",
    "m_test = len(test_set)\n",
    "Y_test = test_set['price']\n",
    "x_test = test_set[['area', 'bedrooms', 'bathrooms', 'stories', 'parking']]\n",
    "x_0_test = np.ones((m_test,1))\n",
    "X_test = np.hstack((x_0_test, x_test))"
   ]
  },
  {
   "cell_type": "code",
   "execution_count": 28,
   "id": "481d8eed",
   "metadata": {},
   "outputs": [],
   "source": [
    "#loss function\n",
    "def compute_cost(X, y, theta, m):\n",
    "    predictions = X.dot(theta)\n",
    "    errors = np.subtract(predictions, y)\n",
    "    sqrErrors = np.square(errors)\n",
    "    J = (1/(2*m))*np.sum(sqrErrors)\n",
    "    \n",
    "    return J"
   ]
  },
  {
   "cell_type": "code",
   "execution_count": 29,
   "id": "702f1325",
   "metadata": {},
   "outputs": [],
   "source": [
    "#gradient descent function\n",
    "def gradient_descent(X, y, theta, alpha, iterations):\n",
    "    train_cost_history = np.zeros(iterations)\n",
    "    test_cost_history = np.zeros(iterations)\n",
    "    \n",
    "    for i in range(iterations):\n",
    "        predictions = X.dot(theta)\n",
    "        errors = np.subtract(predictions, y)\n",
    "        sum_delta = (alpha/m_train) * X.transpose().dot(errors)\n",
    "        theta -= sum_delta\n",
    "        train_cost_history[i] = compute_cost(X_train, Y_train, theta, m_train)\n",
    "        test_cost_history[i] = compute_cost(X_test, Y_test, theta, m_test)\n",
    "    \n",
    "    return theta, train_cost_history, test_cost_history"
   ]
  },
  {
   "cell_type": "code",
   "execution_count": 30,
   "id": "1d325b58",
   "metadata": {},
   "outputs": [],
   "source": [
    "#initialize theta, # of iterations, and learning rate\n",
    "theta = np.zeros(6)\n",
    "iterations = 500\n",
    "alpha = .0000000008"
   ]
  },
  {
   "cell_type": "code",
   "execution_count": 31,
   "id": "a795b592",
   "metadata": {},
   "outputs": [
    {
     "name": "stdout",
     "output_type": "stream",
     "text": [
      "Final theta values for a: [2.81170732e-01 8.62664758e+02 9.59994940e-01 4.98151207e-01\n",
      " 7.31669880e-01 2.25283212e-01]\n"
     ]
    }
   ],
   "source": [
    "#calculate cost for and output last value which should be the lowest\n",
    "theta, train_cost_history, test_cost_history = gradient_descent(X_train, Y_train, theta, alpha, iterations)\n",
    "print(\"Final theta values for a:\", theta)"
   ]
  },
  {
   "cell_type": "code",
   "execution_count": 32,
   "id": "c6bf0743",
   "metadata": {},
   "outputs": [
    {
     "name": "stdout",
     "output_type": "stream",
     "text": [
      "Training cost: 1606218857447.2139\n",
      "Testing cost: 1945798550544.899\n"
     ]
    },
    {
     "data": {
      "image/png": "[encoded data removed]",
      "text/plain": [
       "<Figure size 864x576 with 1 Axes>"
      ]
     },
     "metadata": {
      "needs_background": "light"
     },
     "output_type": "display_data"
    }
   ],
   "source": [
    "#plot loss vs iterations\n",
    "plt.rcParams[\"figure.figsize\"] = (12,8)\n",
    "plt.plot(range(1, iterations + 1), train_cost_history, color='blue', label='Train')\n",
    "plt.plot(range(1, iterations + 1), test_cost_history, color='red', label='Test')\n",
    "plt.grid()\n",
    "plt.legend()\n",
    "plt.xlabel('Number of iterations')\n",
    "plt.ylabel('Cost (J)')\n",
    "plt.title('Convergence of gradient descent for X')\n",
    "print(\"Training cost:\", train_cost_history[-1])\n",
    "print(\"Testing cost:\", test_cost_history[-1])"
   ]
  },
  {
   "cell_type": "code",
   "execution_count": 33,
   "id": "233f127f",
   "metadata": {},
   "outputs": [],
   "source": [
    "#Problem 1, part b\n",
    "\n",
    "vars_b = ['area', 'bedrooms', 'bathrooms', 'stories', 'mainroad', 'guestroom', 'basement', 'hotwaterheating', 'airconditioning', 'parking', 'prefarea', 'price']\n",
    "train_set_b = df_train[vars_b]\n",
    "test_set_b = df_test[vars_b]\n",
    "\n",
    "\n",
    "m_train_b = len(train_set_b)\n",
    "Y_train_b = train_set_b['price']\n",
    "x_train_b = train_set_b[['area', 'bedrooms', 'bathrooms', 'stories', 'mainroad', 'guestroom', 'basement', 'hotwaterheating', 'airconditioning', 'parking', 'prefarea']]\n",
    "x_0_train_b = np.ones((m_train_b,1))\n",
    "X_train_b = np.hstack((x_0_train_b, x_train_b))\n",
    "\n",
    "\n",
    "\n",
    "m_test_b = len(test_set_b)\n",
    "Y_test_b = test_set_b['price']\n",
    "x_test_b = test_set_b[['area', 'bedrooms', 'bathrooms', 'stories', 'mainroad', 'guestroom', 'basement', 'hotwaterheating', 'airconditioning', 'parking', 'prefarea']]\n",
    "x_0_test_b = np.ones((m_test_b,1))\n",
    "X_test_b = np.hstack((x_0_test_b, x_test_b))\n",
    "\n",
    "\n",
    "theta_b = np.zeros(12)\n",
    "iterations_b = 1600\n",
    "alpha_b = .00000000008"
   ]
  },
  {
   "cell_type": "code",
   "execution_count": 34,
   "id": "25544560",
   "metadata": {},
   "outputs": [],
   "source": [
    "def gradient_descent_b(X, y, theta, alpha, iterations):\n",
    "    train_cost_history_b = np.zeros(iterations)\n",
    "    test_cost_history_b = np.zeros(iterations)\n",
    "    \n",
    "    for i in range(iterations):\n",
    "        predictions = X.dot(theta)\n",
    "        errors = np.subtract(predictions, y)\n",
    "        sum_delta = (alpha/m_train_b) * X.transpose().dot(errors)\n",
    "        theta -= sum_delta\n",
    "        train_cost_history_b[i] = compute_cost(X_train_b, Y_train_b, theta, m_train_b)\n",
    "        test_cost_history_b[i] = compute_cost(X_test_b, Y_test_b, theta, m_test_b)\n",
    "    \n",
    "    return theta, train_cost_history_b, test_cost_history_b"
   ]
  },
  {
   "cell_type": "code",
   "execution_count": 35,
   "id": "956700c8",
   "metadata": {},
   "outputs": [
    {
     "name": "stdout",
     "output_type": "stream",
     "text": [
      "Final theta values for b: [1.83771555e-01 8.47434304e+02 5.92684905e-01 2.86125412e-01\n",
      " 4.08845161e-01 1.63502258e-01 4.61198289e-02 8.46955114e-02\n",
      " 1.26615860e-02 9.15896184e-02 1.51317265e-01 5.64301558e-02]\n"
     ]
    }
   ],
   "source": [
    "theta_b, train_cost_history_b, test_cost_history_b = gradient_descent_b(X_train_b, Y_train_b, theta_b, alpha_b, iterations_b)\n",
    "print(\"Final theta values for b:\", theta_b)"
   ]
  },
  {
   "cell_type": "code",
   "execution_count": 36,
   "id": "e6db31e1",
   "metadata": {},
   "outputs": [
    {
     "name": "stdout",
     "output_type": "stream",
     "text": [
      "Training cost: 1609874128863.5178\n",
      "Testing cost: 1932751287084.6775\n"
     ]
    },
    {
     "data": {
      "image/png": "[encoded data removed]",
      "text/plain": [
       "<Figure size 864x576 with 1 Axes>"
      ]
     },
     "metadata": {
      "needs_background": "light"
     },
     "output_type": "display_data"
    }
   ],
   "source": [
    "plt.plot(range(1, iterations_b + 1), train_cost_history_b, color='blue', label='Train')\n",
    "plt.plot(range(1, iterations_b + 1), test_cost_history_b, color='red', label='Test')\n",
    "plt.grid()\n",
    "plt.legend()\n",
    "plt.xlabel('Number of iterations')\n",
    "plt.ylabel('Cost (J)')\n",
    "plt.title('Convergence of gradient descent for X')\n",
    "print(\"Training cost:\", train_cost_history_b[-1])\n",
    "print(\"Testing cost:\", test_cost_history_b[-1])"
   ]
  }
 ],
 "metadata": {
  "kernelspec": {
   "display_name": "Python 3.9.12 ('base')",
   "language": "python",
   "name": "python3"
  },
  "language_info": {
   "codemirror_mode": {
    "name": "ipython",
    "version": 3
   },
   "file_extension": ".py",
   "mimetype": "text/x-python",
   "name": "python",
   "nbconvert_exporter": "python",
   "pygments_lexer": "ipython3",
   "version": "3.9.12"
  },
  "vscode": {
   "interpreter": {
    "hash": "0eb5d0a65b500759bcde1c4c1ad0551eaece71d5bef76353acf57400c52edb49"
   }
  }
 },
 "nbformat": 4,
 "nbformat_minor": 5
}
