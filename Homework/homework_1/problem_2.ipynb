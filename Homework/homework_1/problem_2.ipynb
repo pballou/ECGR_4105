{
 "cells": [
  {
   "cell_type": "code",
   "execution_count": 1,
   "id": "7429e5c9-5efd-4172-a118-3cf46a4cc318",
   "metadata": {},
   "outputs": [
    {
     "data": {
      "text/plain": [
       "'\\nPatrick Ballou\\nID: 801130521\\nECGR 4105\\nHomework 1\\nProblem 2\\n'"
      ]
     },
     "execution_count": 1,
     "metadata": {},
     "output_type": "execute_result"
    }
   ],
   "source": [
    "'''\n",
    "Patrick Ballou\n",
    "ID: 801130521\n",
    "ECGR 4105\n",
    "Homework 1\n",
    "Problem 2\n",
    "'''"
   ]
  },
  {
   "cell_type": "code",
   "execution_count": 2,
   "id": "db6e209b",
   "metadata": {},
   "outputs": [],
   "source": [
    "import numpy as np\n",
    "import pandas as pd\n",
    "import matplotlib.pyplot as plt\n",
    "import seaborn as sns\n",
    "from sklearn.model_selection import train_test_split\n",
    "from sklearn.preprocessing import MinMaxScaler, StandardScaler\n",
    "SS = StandardScaler()\n",
    "MM = MinMaxScaler()"
   ]
  },
  {
   "cell_type": "code",
   "execution_count": 3,
   "id": "72898fad",
   "metadata": {},
   "outputs": [
    {
     "data": {
      "text/html": [
       "<div>\n",
       "<style scoped>\n",
       "    .dataframe tbody tr th:only-of-type {\n",
       "        vertical-align: middle;\n",
       "    }\n",
       "\n",
       "    .dataframe tbody tr th {\n",
       "        vertical-align: top;\n",
       "    }\n",
       "\n",
       "    .dataframe thead th {\n",
       "        text-align: right;\n",
       "    }\n",
       "</style>\n",
       "<table border=\"1\" class=\"dataframe\">\n",
       "  <thead>\n",
       "    <tr style=\"text-align: right;\">\n",
       "      <th></th>\n",
       "      <th>price</th>\n",
       "      <th>area</th>\n",
       "      <th>bedrooms</th>\n",
       "      <th>bathrooms</th>\n",
       "      <th>stories</th>\n",
       "      <th>mainroad</th>\n",
       "      <th>guestroom</th>\n",
       "      <th>basement</th>\n",
       "      <th>hotwaterheating</th>\n",
       "      <th>airconditioning</th>\n",
       "      <th>parking</th>\n",
       "      <th>prefarea</th>\n",
       "      <th>furnishingstatus</th>\n",
       "    </tr>\n",
       "  </thead>\n",
       "  <tbody>\n",
       "    <tr>\n",
       "      <th>0</th>\n",
       "      <td>13300000</td>\n",
       "      <td>7420</td>\n",
       "      <td>4</td>\n",
       "      <td>2</td>\n",
       "      <td>3</td>\n",
       "      <td>yes</td>\n",
       "      <td>no</td>\n",
       "      <td>no</td>\n",
       "      <td>no</td>\n",
       "      <td>yes</td>\n",
       "      <td>2</td>\n",
       "      <td>yes</td>\n",
       "      <td>furnished</td>\n",
       "    </tr>\n",
       "    <tr>\n",
       "      <th>1</th>\n",
       "      <td>12250000</td>\n",
       "      <td>8960</td>\n",
       "      <td>4</td>\n",
       "      <td>4</td>\n",
       "      <td>4</td>\n",
       "      <td>yes</td>\n",
       "      <td>no</td>\n",
       "      <td>no</td>\n",
       "      <td>no</td>\n",
       "      <td>yes</td>\n",
       "      <td>3</td>\n",
       "      <td>no</td>\n",
       "      <td>furnished</td>\n",
       "    </tr>\n",
       "    <tr>\n",
       "      <th>2</th>\n",
       "      <td>12250000</td>\n",
       "      <td>9960</td>\n",
       "      <td>3</td>\n",
       "      <td>2</td>\n",
       "      <td>2</td>\n",
       "      <td>yes</td>\n",
       "      <td>no</td>\n",
       "      <td>yes</td>\n",
       "      <td>no</td>\n",
       "      <td>no</td>\n",
       "      <td>2</td>\n",
       "      <td>yes</td>\n",
       "      <td>semi-furnished</td>\n",
       "    </tr>\n",
       "    <tr>\n",
       "      <th>3</th>\n",
       "      <td>12215000</td>\n",
       "      <td>7500</td>\n",
       "      <td>4</td>\n",
       "      <td>2</td>\n",
       "      <td>2</td>\n",
       "      <td>yes</td>\n",
       "      <td>no</td>\n",
       "      <td>yes</td>\n",
       "      <td>no</td>\n",
       "      <td>yes</td>\n",
       "      <td>3</td>\n",
       "      <td>yes</td>\n",
       "      <td>furnished</td>\n",
       "    </tr>\n",
       "    <tr>\n",
       "      <th>4</th>\n",
       "      <td>11410000</td>\n",
       "      <td>7420</td>\n",
       "      <td>4</td>\n",
       "      <td>1</td>\n",
       "      <td>2</td>\n",
       "      <td>yes</td>\n",
       "      <td>yes</td>\n",
       "      <td>yes</td>\n",
       "      <td>no</td>\n",
       "      <td>yes</td>\n",
       "      <td>2</td>\n",
       "      <td>no</td>\n",
       "      <td>furnished</td>\n",
       "    </tr>\n",
       "  </tbody>\n",
       "</table>\n",
       "</div>"
      ],
      "text/plain": [
       "      price  area  bedrooms  bathrooms  stories mainroad guestroom basement  \\\n",
       "0  13300000  7420         4          2        3      yes        no       no   \n",
       "1  12250000  8960         4          4        4      yes        no       no   \n",
       "2  12250000  9960         3          2        2      yes        no      yes   \n",
       "3  12215000  7500         4          2        2      yes        no      yes   \n",
       "4  11410000  7420         4          1        2      yes       yes      yes   \n",
       "\n",
       "  hotwaterheating airconditioning  parking prefarea furnishingstatus  \n",
       "0              no             yes        2      yes        furnished  \n",
       "1              no             yes        3       no        furnished  \n",
       "2              no              no        2      yes   semi-furnished  \n",
       "3              no             yes        3      yes        furnished  \n",
       "4              no             yes        2       no        furnished  "
      ]
     },
     "execution_count": 3,
     "metadata": {},
     "output_type": "execute_result"
    }
   ],
   "source": [
    "#create pandas dataframe and print first 5 rows\n",
    "df = pd.read_csv(\"Housing.csv\")\n",
    "df_copy = df.copy()\n",
    "df.head()"
   ]
  },
  {
   "cell_type": "code",
   "execution_count": 4,
   "id": "450cb59f",
   "metadata": {},
   "outputs": [],
   "source": [
    "#categorical inputs that need to be mapped to numbers\n",
    "non_num_varlist = [\"mainroad\", \"guestroom\", \"basement\", \"hotwaterheating\", \"airconditioning\", \"prefarea\"]\n",
    "\n",
    "#mapping function\n",
    "def to_num(x):\n",
    "    return x.map({\"yes\": 1, \"no\": 0})"
   ]
  },
  {
   "cell_type": "code",
   "execution_count": 5,
   "id": "e037b926",
   "metadata": {},
   "outputs": [
    {
     "data": {
      "text/html": [
       "<div>\n",
       "<style scoped>\n",
       "    .dataframe tbody tr th:only-of-type {\n",
       "        vertical-align: middle;\n",
       "    }\n",
       "\n",
       "    .dataframe tbody tr th {\n",
       "        vertical-align: top;\n",
       "    }\n",
       "\n",
       "    .dataframe thead th {\n",
       "        text-align: right;\n",
       "    }\n",
       "</style>\n",
       "<table border=\"1\" class=\"dataframe\">\n",
       "  <thead>\n",
       "    <tr style=\"text-align: right;\">\n",
       "      <th></th>\n",
       "      <th>price</th>\n",
       "      <th>area</th>\n",
       "      <th>bedrooms</th>\n",
       "      <th>bathrooms</th>\n",
       "      <th>stories</th>\n",
       "      <th>mainroad</th>\n",
       "      <th>guestroom</th>\n",
       "      <th>basement</th>\n",
       "      <th>hotwaterheating</th>\n",
       "      <th>airconditioning</th>\n",
       "      <th>parking</th>\n",
       "      <th>prefarea</th>\n",
       "      <th>furnishingstatus</th>\n",
       "    </tr>\n",
       "  </thead>\n",
       "  <tbody>\n",
       "    <tr>\n",
       "      <th>0</th>\n",
       "      <td>13300000</td>\n",
       "      <td>7420</td>\n",
       "      <td>4</td>\n",
       "      <td>2</td>\n",
       "      <td>3</td>\n",
       "      <td>1</td>\n",
       "      <td>0</td>\n",
       "      <td>0</td>\n",
       "      <td>0</td>\n",
       "      <td>1</td>\n",
       "      <td>2</td>\n",
       "      <td>1</td>\n",
       "      <td>furnished</td>\n",
       "    </tr>\n",
       "    <tr>\n",
       "      <th>1</th>\n",
       "      <td>12250000</td>\n",
       "      <td>8960</td>\n",
       "      <td>4</td>\n",
       "      <td>4</td>\n",
       "      <td>4</td>\n",
       "      <td>1</td>\n",
       "      <td>0</td>\n",
       "      <td>0</td>\n",
       "      <td>0</td>\n",
       "      <td>1</td>\n",
       "      <td>3</td>\n",
       "      <td>0</td>\n",
       "      <td>furnished</td>\n",
       "    </tr>\n",
       "    <tr>\n",
       "      <th>2</th>\n",
       "      <td>12250000</td>\n",
       "      <td>9960</td>\n",
       "      <td>3</td>\n",
       "      <td>2</td>\n",
       "      <td>2</td>\n",
       "      <td>1</td>\n",
       "      <td>0</td>\n",
       "      <td>1</td>\n",
       "      <td>0</td>\n",
       "      <td>0</td>\n",
       "      <td>2</td>\n",
       "      <td>1</td>\n",
       "      <td>semi-furnished</td>\n",
       "    </tr>\n",
       "    <tr>\n",
       "      <th>3</th>\n",
       "      <td>12215000</td>\n",
       "      <td>7500</td>\n",
       "      <td>4</td>\n",
       "      <td>2</td>\n",
       "      <td>2</td>\n",
       "      <td>1</td>\n",
       "      <td>0</td>\n",
       "      <td>1</td>\n",
       "      <td>0</td>\n",
       "      <td>1</td>\n",
       "      <td>3</td>\n",
       "      <td>1</td>\n",
       "      <td>furnished</td>\n",
       "    </tr>\n",
       "    <tr>\n",
       "      <th>4</th>\n",
       "      <td>11410000</td>\n",
       "      <td>7420</td>\n",
       "      <td>4</td>\n",
       "      <td>1</td>\n",
       "      <td>2</td>\n",
       "      <td>1</td>\n",
       "      <td>1</td>\n",
       "      <td>1</td>\n",
       "      <td>0</td>\n",
       "      <td>1</td>\n",
       "      <td>2</td>\n",
       "      <td>0</td>\n",
       "      <td>furnished</td>\n",
       "    </tr>\n",
       "  </tbody>\n",
       "</table>\n",
       "</div>"
      ],
      "text/plain": [
       "      price  area  bedrooms  bathrooms  stories  mainroad  guestroom  \\\n",
       "0  13300000  7420         4          2        3         1          0   \n",
       "1  12250000  8960         4          4        4         1          0   \n",
       "2  12250000  9960         3          2        2         1          0   \n",
       "3  12215000  7500         4          2        2         1          0   \n",
       "4  11410000  7420         4          1        2         1          1   \n",
       "\n",
       "   basement  hotwaterheating  airconditioning  parking  prefarea  \\\n",
       "0         0                0                1        2         1   \n",
       "1         0                0                1        3         0   \n",
       "2         1                0                0        2         1   \n",
       "3         1                0                1        3         1   \n",
       "4         1                0                1        2         0   \n",
       "\n",
       "  furnishingstatus  \n",
       "0        furnished  \n",
       "1        furnished  \n",
       "2   semi-furnished  \n",
       "3        furnished  \n",
       "4        furnished  "
      ]
     },
     "execution_count": 5,
     "metadata": {},
     "output_type": "execute_result"
    }
   ],
   "source": [
    "#map inputs and output new dataframe\n",
    "df[non_num_varlist] = df_copy[non_num_varlist].apply(to_num) #copy df is to avoid problems if you run cell again\n",
    "df.head()"
   ]
  },
  {
   "cell_type": "code",
   "execution_count": 6,
   "id": "2b6ae70d",
   "metadata": {},
   "outputs": [],
   "source": [
    "#train/test split, random_state functions as seed\n",
    "df_train, df_test = train_test_split(df, train_size=.8, test_size=.2, random_state=7)"
   ]
  },
  {
   "cell_type": "code",
   "execution_count": 7,
   "id": "0c7e73cf",
   "metadata": {},
   "outputs": [],
   "source": [
    "#create arrays of relevent inputs for this problem\n",
    "\n",
    "#part a\n",
    "vars = ['area', 'bedrooms', 'bathrooms', 'stories', 'parking', 'price']\n",
    "train_set = df_train[vars]\n",
    "test_set = df_test[vars]\n",
    "\n",
    "\n",
    "\n",
    "#part b\n",
    "vars_b = ['area', 'bedrooms', 'bathrooms', 'stories', 'mainroad', 'guestroom', 'basement', 'hotwaterheating', 'airconditioning', 'parking', 'prefarea', 'price']\n",
    "train_set_b = df_train[vars_b]\n",
    "test_set_b = df_test[vars_b]"
   ]
  },
  {
   "cell_type": "code",
   "execution_count": 8,
   "id": "2e7c678d",
   "metadata": {},
   "outputs": [],
   "source": [
    "#scale two different ways\n",
    "\n",
    "#part a\n",
    "ss_train_set = SS.fit_transform(train_set)\n",
    "ss_test_set = SS.fit_transform(test_set)\n",
    "mm_train_set = MM.fit_transform(train_set)\n",
    "mm_test_set = MM.fit_transform(test_set)\n",
    "\n",
    "\n",
    "#part b\n",
    "ss_train_set_b = SS.fit_transform(train_set_b)\n",
    "ss_test_set_b = SS.fit_transform(test_set_b)\n",
    "mm_train_set_b = MM.fit_transform(train_set_b)\n",
    "mm_test_set_b = MM.fit_transform(test_set_b)"
   ]
  },
  {
   "cell_type": "code",
   "execution_count": 9,
   "id": "b9a590c6",
   "metadata": {},
   "outputs": [],
   "source": [
    "#create variables for test and train set since they are different sizes\n",
    "\n",
    "m_train = len(train_set)\n",
    "m_test = len(test_set)\n",
    "\n",
    "#standard scaler train\n",
    "ss_Y_train = ss_train_set[:,-1]\n",
    "ss_x_train = ss_train_set[:,0:6]\n",
    "ss_x_0_train = np.ones((m_train,1))\n",
    "ss_X_train = np.hstack((ss_x_0_train, ss_x_train))\n",
    "\n",
    "#standard scaler test\n",
    "ss_Y_test = ss_test_set[:,-1]\n",
    "ss_x_test = ss_test_set[:, 0:6]\n",
    "ss_x_0_test = np.ones((m_test,1))\n",
    "ss_X_test = np.hstack((ss_x_0_test, ss_x_test))\n",
    "\n",
    "#min max train\n",
    "mm_Y_train = mm_train_set[:,-1]\n",
    "mm_x_train = mm_train_set[:,0:6]\n",
    "mm_x_0_train = np.ones((m_train,1))\n",
    "mm_X_train = np.hstack((mm_x_0_train, mm_x_train))\n",
    "\n",
    "#Min max test\n",
    "mm_Y_test = mm_test_set[:,-1]\n",
    "mm_x_test = mm_test_set[:, 0:6]\n",
    "mm_x_0_test = np.ones((m_test,1))\n",
    "mm_X_test = np.hstack((mm_x_0_test, mm_x_test))"
   ]
  },
  {
   "cell_type": "code",
   "execution_count": 10,
   "id": "7dd25d09",
   "metadata": {},
   "outputs": [],
   "source": [
    "#same thing but for part b\n",
    "\n",
    "m_train_b = len(train_set_b)\n",
    "m_test_b = len(test_set_b)\n",
    "\n",
    "#standard scaler train\n",
    "ss_Y_train_b = ss_train_set_b[:,-1]\n",
    "ss_x_train_b = ss_train_set_b[:,0:12]\n",
    "ss_x_0_train_b = np.ones((m_train_b,1))\n",
    "ss_X_train_b = np.hstack((ss_x_0_train_b, ss_x_train_b))\n",
    "\n",
    "#standard scaler test\n",
    "ss_Y_test_b = ss_test_set_b[:,-1]\n",
    "ss_x_test_b = ss_test_set_b[:, 0:12]\n",
    "ss_x_0_test_b = np.ones((m_test_b,1))\n",
    "ss_X_test_b = np.hstack((ss_x_0_test_b, ss_x_test_b))\n",
    "\n",
    "#min max train\n",
    "mm_Y_train_b = mm_train_set_b[:,-1]\n",
    "mm_x_train_b = mm_train_set_b[:,0:12]\n",
    "mm_x_0_train_b = np.ones((m_train_b,1))\n",
    "mm_X_train_b = np.hstack((mm_x_0_train_b, mm_x_train_b))\n",
    "\n",
    "#Min max test\n",
    "mm_Y_test_b = mm_test_set_b[:,-1]\n",
    "mm_x_test_b = mm_test_set_b[:, 0:12]\n",
    "mm_x_0_test_b = np.ones((m_test_b,1))\n",
    "mm_X_test_b = np.hstack((mm_x_0_test_b, mm_x_test_b))"
   ]
  },
  {
   "cell_type": "code",
   "execution_count": 11,
   "id": "611f40ef",
   "metadata": {},
   "outputs": [],
   "source": [
    "#initialize theta, # of iterations, and learning rate\n",
    "\n",
    "#part a\n",
    "iterations = 5000\n",
    "ss_theta = np.zeros(7)\n",
    "ss_alpha = .007\n",
    "\n",
    "mm_theta = np.zeros(7)\n",
    "mm_alpha = .02\n",
    "\n",
    "\n",
    "\n",
    "#part b\n",
    "iterations_b = 5000\n",
    "ss_theta_b = np.zeros(13)\n",
    "ss_alpha_b = .008\n",
    "\n",
    "mm_theta_b = np.zeros(13)\n",
    "mm_alpha_b = .01"
   ]
  },
  {
   "cell_type": "code",
   "execution_count": 12,
   "id": "94d4d810",
   "metadata": {},
   "outputs": [],
   "source": [
    "#initialize cost history arrays\n",
    "ss_train_cost_history = np.zeros(iterations)\n",
    "ss_test_cost_history = np.zeros(iterations)\n",
    "mm_train_cost_history = np.zeros(iterations)\n",
    "mm_test_cost_history = np.zeros(iterations)\n",
    "\n",
    "\n",
    "ss_train_cost_history_b = np.zeros(iterations_b)\n",
    "ss_test_cost_history_b = np.zeros(iterations_b)\n",
    "mm_train_cost_history_b = np.zeros(iterations_b)\n",
    "mm_test_cost_history_b = np.zeros(iterations_b)"
   ]
  },
  {
   "cell_type": "code",
   "execution_count": 13,
   "id": "d262ab00",
   "metadata": {},
   "outputs": [],
   "source": [
    "#loss function\n",
    "def compute_cost(X, y, theta, m):\n",
    "    predictions = X.dot(theta)\n",
    "    errors = np.subtract(predictions, y)\n",
    "    sqrErrors = np.square(errors)\n",
    "    J = (1/(2*m))*np.sum(sqrErrors)\n",
    "    \n",
    "    return J"
   ]
  },
  {
   "cell_type": "code",
   "execution_count": 14,
   "id": "23bbcc16",
   "metadata": {},
   "outputs": [],
   "source": [
    "#gradient descent function\n",
    "def gradient_descent(x_train, y_train, x_test, y_test, theta, alpha, iterations, m_train, m_test, train_cost_history, test_cost_history):\n",
    "    \n",
    "    for i in range(iterations):\n",
    "        predictions = x_train.dot(theta)\n",
    "        errors = np.subtract(predictions, y_train)\n",
    "        sum_delta = (alpha/m_train) * x_train.transpose().dot(errors)\n",
    "        theta -= sum_delta\n",
    "        train_cost_history[i] = compute_cost(x_train, y_train, theta, m_train)\n",
    "        test_cost_history[i] = compute_cost(x_test, y_test, theta, m_test)\n",
    "    \n",
    "    return theta, train_cost_history, test_cost_history"
   ]
  },
  {
   "cell_type": "code",
   "execution_count": 15,
   "id": "7cfc5a6d",
   "metadata": {},
   "outputs": [
    {
     "name": "stdout",
     "output_type": "stream",
     "text": [
      "Final theta values for part a with standard scaler: [-4.72771828e-20  1.12351149e-05 -4.84537701e-07  7.27780521e-06\n",
      "  6.20567530e-06  2.32650360e-06  9.99981110e-01]\n",
      "Final theta values for part b with minmax: [0.00838029 0.16316443 0.01669635 0.10224781 0.03778532 0.02172851\n",
      " 0.70713697]\n",
      "Final theta values for part b with standard scaler: [ 1.94320859e-20  2.69741133e-05 -1.27098553e-06  1.87099601e-05\n",
      "  1.71087158e-05  3.95243867e-06  6.74271467e-07  1.19610925e-05\n",
      "  7.55458785e-06  1.48000892e-05  6.34568738e-06  7.77046715e-06\n",
      "  9.99939500e-01]\n",
      "Final theta values for part b with min max: [0.00113923 0.15466597 0.04161337 0.13525179 0.06932388 0.02518074\n",
      " 0.0168478  0.02061116 0.04479379 0.0443654  0.05546357 0.03330798\n",
      " 0.43042142]\n"
     ]
    }
   ],
   "source": [
    "#part a\n",
    "#standard scaler\n",
    "ss_theta, ss_train_cost_history, ss_test_cost_history = gradient_descent(ss_X_train, ss_Y_train, ss_X_test, ss_Y_test, ss_theta, ss_alpha, iterations, m_train, m_test, ss_train_cost_history, ss_test_cost_history)\n",
    "print(\"Final theta values for part a with standard scaler:\", ss_theta)\n",
    "\n",
    "#min max\n",
    "mm_theta, mm_train_cost_history, mm_test_cost_history = gradient_descent(mm_X_train, mm_Y_train, mm_X_test, mm_Y_test, mm_theta, mm_alpha, iterations, m_train, m_test, mm_train_cost_history, mm_test_cost_history)\n",
    "print(\"Final theta values for part b with minmax:\", mm_theta)\n",
    "\n",
    "\n",
    "\n",
    "\n",
    "#part b\n",
    "#standard scaler\n",
    "ss_theta_b, ss_train_cost_history_b, ss_test_cost_history_b = gradient_descent(ss_X_train_b, ss_Y_train_b, ss_X_test_b, ss_Y_test_b, ss_theta_b, ss_alpha_b, iterations_b, m_train_b, m_test_b, ss_train_cost_history_b, ss_test_cost_history_b)\n",
    "print(\"Final theta values for part b with standard scaler:\", ss_theta_b)\n",
    "\n",
    "#min max\n",
    "mm_theta_b, mm_train_cost_history_b, mm_test_cost_history_b = gradient_descent(mm_X_train_b, mm_Y_train_b, mm_X_test_b, mm_Y_test_b, mm_theta_b, mm_alpha_b, iterations_b, m_train_b, m_test_b, mm_train_cost_history_b, mm_test_cost_history_b)\n",
    "print(\"Final theta values for part b with min max:\", mm_theta_b)"
   ]
  },
  {
   "cell_type": "code",
   "execution_count": 16,
   "id": "e9d7cac9",
   "metadata": {},
   "outputs": [
    {
     "name": "stdout",
     "output_type": "stream",
     "text": [
      "Standard scaler training cost: 8.603522950138437e-11\n",
      "Standard scaler testing cost: 9.390932165456731e-11\n"
     ]
    },
    {
     "data": {
      "image/png": "[encoded data removed]",
      "text/plain": [
       "<Figure size 432x288 with 1 Axes>"
      ]
     },
     "metadata": {
      "needs_background": "light"
     },
     "output_type": "display_data"
    }
   ],
   "source": [
    "#plot standard scaler train and test loss vs iterations for part a\n",
    "plt.rcParams[\"figure.figsize\"] = (12,8)\n",
    "plt.plot(range(1, iterations + 1), ss_train_cost_history, color='blue', label='Train')\n",
    "plt.plot(range(1, iterations + 1), ss_test_cost_history, color='red', label='Test')\n",
    "plt.grid()\n",
    "plt.legend()\n",
    "plt.xlabel('Number of iterations')\n",
    "plt.ylabel('Cost (J)')\n",
    "plt.title('Convergence of gradient descent for X')\n",
    "print(\"Standard scaler training cost:\", ss_train_cost_history[-1])\n",
    "print(\"Standard scaler testing cost:\", ss_test_cost_history[-1])"
   ]
  },
  {
   "cell_type": "code",
   "execution_count": 17,
   "id": "042ec9df",
   "metadata": {},
   "outputs": [
    {
     "name": "stdout",
     "output_type": "stream",
     "text": [
      "Min max training cost: 0.0005081286497741986\n",
      "Min max testing cost: 0.0007631190873710804\n"
     ]
    },
    {
     "data": {
      "image/png": "[encoded data removed]",
      "text/plain": [
       "<Figure size 432x288 with 1 Axes>"
      ]
     },
     "metadata": {
      "needs_background": "light"
     },
     "output_type": "display_data"
    }
   ],
   "source": [
    "#plot min max train and test loss vs iterations for part a\n",
    "plt.plot(range(1, iterations + 1), mm_train_cost_history, color='blue', label='Train')\n",
    "plt.plot(range(1, iterations + 1), mm_test_cost_history, color='red', label='Test')\n",
    "plt.grid()\n",
    "plt.legend()\n",
    "plt.xlabel('Number of iterations')\n",
    "plt.ylabel('Cost (J)')\n",
    "plt.title('Convergence of gradient descent for X')\n",
    "print(\"Min max training cost:\", mm_train_cost_history[-1])\n",
    "print(\"Min max testing cost:\", mm_test_cost_history[-1])"
   ]
  },
  {
   "cell_type": "code",
   "execution_count": 18,
   "id": "7f6270ef",
   "metadata": {},
   "outputs": [
    {
     "name": "stdout",
     "output_type": "stream",
     "text": [
      "Standard scaler training cost part b: 6.462262312601764e-10\n",
      "Standard scaler testing cost part b: 7.131091466141552e-10\n"
     ]
    },
    {
     "data": {
      "image/png": "[encoded data removed]",
      "text/plain": [
       "<Figure size 432x288 with 1 Axes>"
      ]
     },
     "metadata": {
      "needs_background": "light"
     },
     "output_type": "display_data"
    }
   ],
   "source": [
    "#plot standard scaler train and test loss vs iterations for part b\n",
    "plt.plot(range(1, iterations_b + 1), ss_train_cost_history_b, color='blue', label='Train')\n",
    "plt.plot(range(1, iterations_b + 1), ss_test_cost_history_b, color='red', label='Test')\n",
    "plt.grid()\n",
    "plt.legend()\n",
    "plt.xlabel('Number of iterations')\n",
    "plt.ylabel('Cost (J)')\n",
    "plt.title('Convergence of gradient descent for X')\n",
    "print(\"Standard scaler training cost part b:\", ss_train_cost_history_b[-1])\n",
    "print(\"Standard scaler testing cost part b:\", ss_test_cost_history_b[-1])"
   ]
  },
  {
   "cell_type": "code",
   "execution_count": 19,
   "id": "12425fd5",
   "metadata": {},
   "outputs": [
    {
     "name": "stdout",
     "output_type": "stream",
     "text": [
      "Min max training cost part b: 0.001434780826566402\n",
      "Min max testing cost part b: 0.0015886939687538653\n"
     ]
    },
    {
     "data": {
      "image/png": "[encoded data removed]",
      "text/plain": [
       "<Figure size 432x288 with 1 Axes>"
      ]
     },
     "metadata": {
      "needs_background": "light"
     },
     "output_type": "display_data"
    }
   ],
   "source": [
    "#plot min max train and test loss vs iterations for part b\n",
    "plt.plot(range(1, iterations_b + 1), mm_train_cost_history_b, color='blue', label='Train')\n",
    "plt.plot(range(1, iterations_b + 1), mm_test_cost_history_b, color='red', label='Test')\n",
    "plt.grid()\n",
    "plt.legend()\n",
    "plt.xlabel('Number of iterations')\n",
    "plt.ylabel('Cost (J)')\n",
    "plt.title('Convergence of gradient descent for X')\n",
    "print(\"Min max training cost part b:\", mm_train_cost_history_b[-1])\n",
    "print(\"Min max testing cost part b:\", mm_test_cost_history_b[-1])"
   ]
  }
 ],
 "metadata": {
  "kernelspec": {
   "display_name": "Python 3 (ipykernel)",
   "language": "python",
   "name": "python3"
  },
  "language_info": {
   "codemirror_mode": {
    "name": "ipython",
    "version": 3
   },
   "file_extension": ".py",
   "mimetype": "text/x-python",
   "name": "python",
   "nbconvert_exporter": "python",
   "pygments_lexer": "ipython3",
   "version": "3.9.12"
  },
  "vscode": {
   "interpreter": {
    "hash": "0eb5d0a65b500759bcde1c4c1ad0551eaece71d5bef76353acf57400c52edb49"
   }
  }
 },
 "nbformat": 4,
 "nbformat_minor": 5
}
